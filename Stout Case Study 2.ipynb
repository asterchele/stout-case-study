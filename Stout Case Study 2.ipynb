{
 "cells": [
  {
   "cell_type": "code",
   "execution_count": 24,
   "metadata": {},
   "outputs": [],
   "source": [
    "import pandas as pd\n",
    "import numpy as np\n",
    "import seaborn as sns"
   ]
  },
  {
   "cell_type": "code",
   "execution_count": 2,
   "metadata": {},
   "outputs": [
    {
     "data": {
      "text/html": [
       "<div>\n",
       "<style scoped>\n",
       "    .dataframe tbody tr th:only-of-type {\n",
       "        vertical-align: middle;\n",
       "    }\n",
       "\n",
       "    .dataframe tbody tr th {\n",
       "        vertical-align: top;\n",
       "    }\n",
       "\n",
       "    .dataframe thead th {\n",
       "        text-align: right;\n",
       "    }\n",
       "</style>\n",
       "<table border=\"1\" class=\"dataframe\">\n",
       "  <thead>\n",
       "    <tr style=\"text-align: right;\">\n",
       "      <th></th>\n",
       "      <th>customer_email</th>\n",
       "      <th>net_revenue</th>\n",
       "      <th>year</th>\n",
       "    </tr>\n",
       "  </thead>\n",
       "  <tbody>\n",
       "    <tr>\n",
       "      <th>0</th>\n",
       "      <td>nhknapwsbx@gmail.com</td>\n",
       "      <td>249.92</td>\n",
       "      <td>2015</td>\n",
       "    </tr>\n",
       "    <tr>\n",
       "      <th>1</th>\n",
       "      <td>joiuzbvcpn@gmail.com</td>\n",
       "      <td>87.61</td>\n",
       "      <td>2015</td>\n",
       "    </tr>\n",
       "    <tr>\n",
       "      <th>2</th>\n",
       "      <td>ukkjctepxt@gmail.com</td>\n",
       "      <td>168.38</td>\n",
       "      <td>2015</td>\n",
       "    </tr>\n",
       "    <tr>\n",
       "      <th>3</th>\n",
       "      <td>gykatilzrt@gmail.com</td>\n",
       "      <td>62.40</td>\n",
       "      <td>2015</td>\n",
       "    </tr>\n",
       "    <tr>\n",
       "      <th>4</th>\n",
       "      <td>mmsgsrtxah@gmail.com</td>\n",
       "      <td>43.08</td>\n",
       "      <td>2015</td>\n",
       "    </tr>\n",
       "    <tr>\n",
       "      <th>...</th>\n",
       "      <td>...</td>\n",
       "      <td>...</td>\n",
       "      <td>...</td>\n",
       "    </tr>\n",
       "    <tr>\n",
       "      <th>685922</th>\n",
       "      <td>qzqttwiftu@gmail.com</td>\n",
       "      <td>184.58</td>\n",
       "      <td>2017</td>\n",
       "    </tr>\n",
       "    <tr>\n",
       "      <th>685923</th>\n",
       "      <td>pjodiifjop@gmail.com</td>\n",
       "      <td>133.03</td>\n",
       "      <td>2017</td>\n",
       "    </tr>\n",
       "    <tr>\n",
       "      <th>685924</th>\n",
       "      <td>appaplmgko@gmail.com</td>\n",
       "      <td>200.98</td>\n",
       "      <td>2017</td>\n",
       "    </tr>\n",
       "    <tr>\n",
       "      <th>685925</th>\n",
       "      <td>wvkpmwsgck@gmail.com</td>\n",
       "      <td>235.35</td>\n",
       "      <td>2017</td>\n",
       "    </tr>\n",
       "    <tr>\n",
       "      <th>685926</th>\n",
       "      <td>aregboumbw@gmail.com</td>\n",
       "      <td>208.43</td>\n",
       "      <td>2017</td>\n",
       "    </tr>\n",
       "  </tbody>\n",
       "</table>\n",
       "<p>685927 rows × 3 columns</p>\n",
       "</div>"
      ],
      "text/plain": [
       "               customer_email  net_revenue  year\n",
       "0        nhknapwsbx@gmail.com       249.92  2015\n",
       "1        joiuzbvcpn@gmail.com        87.61  2015\n",
       "2        ukkjctepxt@gmail.com       168.38  2015\n",
       "3        gykatilzrt@gmail.com        62.40  2015\n",
       "4        mmsgsrtxah@gmail.com        43.08  2015\n",
       "...                       ...          ...   ...\n",
       "685922   qzqttwiftu@gmail.com       184.58  2017\n",
       "685923   pjodiifjop@gmail.com       133.03  2017\n",
       "685924   appaplmgko@gmail.com       200.98  2017\n",
       "685925   wvkpmwsgck@gmail.com       235.35  2017\n",
       "685926   aregboumbw@gmail.com       208.43  2017\n",
       "\n",
       "[685927 rows x 3 columns]"
      ]
     },
     "execution_count": 2,
     "metadata": {},
     "output_type": "execute_result"
    }
   ],
   "source": [
    "df = pd.read_csv('casestudy.csv')\n",
    "df = df.drop('Unnamed: 0', axis=1)\n",
    "df"
   ]
  },
  {
   "cell_type": "code",
   "execution_count": 3,
   "metadata": {},
   "outputs": [
    {
     "data": {
      "text/html": [
       "<div>\n",
       "<style scoped>\n",
       "    .dataframe tbody tr th:only-of-type {\n",
       "        vertical-align: middle;\n",
       "    }\n",
       "\n",
       "    .dataframe tbody tr th {\n",
       "        vertical-align: top;\n",
       "    }\n",
       "\n",
       "    .dataframe thead th {\n",
       "        text-align: right;\n",
       "    }\n",
       "</style>\n",
       "<table border=\"1\" class=\"dataframe\">\n",
       "  <thead>\n",
       "    <tr style=\"text-align: right;\">\n",
       "      <th></th>\n",
       "      <th>year</th>\n",
       "      <th>net_revenue</th>\n",
       "    </tr>\n",
       "  </thead>\n",
       "  <tbody>\n",
       "    <tr>\n",
       "      <th>0</th>\n",
       "      <td>2015</td>\n",
       "      <td>29036749.19</td>\n",
       "    </tr>\n",
       "    <tr>\n",
       "      <th>1</th>\n",
       "      <td>2016</td>\n",
       "      <td>25730943.59</td>\n",
       "    </tr>\n",
       "    <tr>\n",
       "      <th>2</th>\n",
       "      <td>2017</td>\n",
       "      <td>31417495.03</td>\n",
       "    </tr>\n",
       "  </tbody>\n",
       "</table>\n",
       "</div>"
      ],
      "text/plain": [
       "   year  net_revenue\n",
       "0  2015  29036749.19\n",
       "1  2016  25730943.59\n",
       "2  2017  31417495.03"
      ]
     },
     "execution_count": 3,
     "metadata": {},
     "output_type": "execute_result"
    }
   ],
   "source": [
    "#net revenue per year\n",
    "revenue = df.groupby('year')['net_revenue'].sum().to_frame().reset_index()\n",
    "revenue"
   ]
  },
  {
   "cell_type": "code",
   "execution_count": 4,
   "metadata": {},
   "outputs": [
    {
     "data": {
      "text/html": [
       "<div>\n",
       "<style scoped>\n",
       "    .dataframe tbody tr th:only-of-type {\n",
       "        vertical-align: middle;\n",
       "    }\n",
       "\n",
       "    .dataframe tbody tr th {\n",
       "        vertical-align: top;\n",
       "    }\n",
       "\n",
       "    .dataframe thead th {\n",
       "        text-align: right;\n",
       "    }\n",
       "</style>\n",
       "<table border=\"1\" class=\"dataframe\">\n",
       "  <thead>\n",
       "    <tr style=\"text-align: right;\">\n",
       "      <th></th>\n",
       "      <th>net_revenue</th>\n",
       "    </tr>\n",
       "    <tr>\n",
       "      <th>year</th>\n",
       "      <th></th>\n",
       "    </tr>\n",
       "  </thead>\n",
       "  <tbody>\n",
       "    <tr>\n",
       "      <th>2015</th>\n",
       "      <td>29036749.19</td>\n",
       "    </tr>\n",
       "    <tr>\n",
       "      <th>2016</th>\n",
       "      <td>18245491.01</td>\n",
       "    </tr>\n",
       "    <tr>\n",
       "      <th>2017</th>\n",
       "      <td>28676607.64</td>\n",
       "    </tr>\n",
       "  </tbody>\n",
       "</table>\n",
       "</div>"
      ],
      "text/plain": [
       "      net_revenue\n",
       "year             \n",
       "2015  29036749.19\n",
       "2016  18245491.01\n",
       "2017  28676607.64"
      ]
     },
     "execution_count": 4,
     "metadata": {},
     "output_type": "execute_result"
    }
   ],
   "source": [
    "#New Customer Revenue\n",
    "new_rev = df.drop_duplicates(subset='customer_email')\n",
    "new_rev = new_rev.groupby('year')['net_revenue'].sum().to_frame()\n",
    "new_rev"
   ]
  },
  {
   "cell_type": "code",
   "execution_count": 5,
   "metadata": {},
   "outputs": [
    {
     "data": {
      "text/html": [
       "<div>\n",
       "<style scoped>\n",
       "    .dataframe tbody tr th:only-of-type {\n",
       "        vertical-align: middle;\n",
       "    }\n",
       "\n",
       "    .dataframe tbody tr th {\n",
       "        vertical-align: top;\n",
       "    }\n",
       "\n",
       "    .dataframe thead th {\n",
       "        text-align: right;\n",
       "    }\n",
       "</style>\n",
       "<table border=\"1\" class=\"dataframe\">\n",
       "  <thead>\n",
       "    <tr style=\"text-align: right;\">\n",
       "      <th></th>\n",
       "      <th>net_revenue</th>\n",
       "      <th>customer growth</th>\n",
       "    </tr>\n",
       "    <tr>\n",
       "      <th>year</th>\n",
       "      <th></th>\n",
       "      <th></th>\n",
       "    </tr>\n",
       "  </thead>\n",
       "  <tbody>\n",
       "    <tr>\n",
       "      <th>2015</th>\n",
       "      <td>29036749.19</td>\n",
       "      <td>NaN</td>\n",
       "    </tr>\n",
       "    <tr>\n",
       "      <th>2016</th>\n",
       "      <td>18245491.01</td>\n",
       "      <td>-10791258.18</td>\n",
       "    </tr>\n",
       "    <tr>\n",
       "      <th>2017</th>\n",
       "      <td>28676607.64</td>\n",
       "      <td>10431116.63</td>\n",
       "    </tr>\n",
       "  </tbody>\n",
       "</table>\n",
       "</div>"
      ],
      "text/plain": [
       "      net_revenue  customer growth\n",
       "year                              \n",
       "2015  29036749.19              NaN\n",
       "2016  18245491.01     -10791258.18\n",
       "2017  28676607.64      10431116.63"
      ]
     },
     "execution_count": 5,
     "metadata": {},
     "output_type": "execute_result"
    }
   ],
   "source": [
    "#Existing Customer Growth\n",
    "new_rev['customer growth'] = new_rev['net_revenue'].diff()\n",
    "new_rev"
   ]
  },
  {
   "cell_type": "code",
   "execution_count": 27,
   "metadata": {},
   "outputs": [
    {
     "data": {
      "text/html": [
       "<div>\n",
       "<style scoped>\n",
       "    .dataframe tbody tr th:only-of-type {\n",
       "        vertical-align: middle;\n",
       "    }\n",
       "\n",
       "    .dataframe tbody tr th {\n",
       "        vertical-align: top;\n",
       "    }\n",
       "\n",
       "    .dataframe thead th {\n",
       "        text-align: right;\n",
       "    }\n",
       "</style>\n",
       "<table border=\"1\" class=\"dataframe\">\n",
       "  <thead>\n",
       "    <tr style=\"text-align: right;\">\n",
       "      <th></th>\n",
       "      <th>year</th>\n",
       "      <th>lost from attrition</th>\n",
       "    </tr>\n",
       "  </thead>\n",
       "  <tbody>\n",
       "    <tr>\n",
       "      <th>0</th>\n",
       "      <td>2015</td>\n",
       "      <td>NaN</td>\n",
       "    </tr>\n",
       "    <tr>\n",
       "      <th>1</th>\n",
       "      <td>2016</td>\n",
       "      <td>-3305805.60</td>\n",
       "    </tr>\n",
       "    <tr>\n",
       "      <th>2</th>\n",
       "      <td>2017</td>\n",
       "      <td>5686551.44</td>\n",
       "    </tr>\n",
       "  </tbody>\n",
       "</table>\n",
       "</div>"
      ],
      "text/plain": [
       "   year  lost from attrition\n",
       "0  2015                  NaN\n",
       "1  2016          -3305805.60\n",
       "2  2017           5686551.44"
      ]
     },
     "execution_count": 27,
     "metadata": {},
     "output_type": "execute_result"
    }
   ],
   "source": [
    "#Revenue lost from attrition\n",
    "revenue['lost from attrition'] = revenue['net_revenue'].diff()\n",
    "new_rev_2 = revenue.drop('net_revenue', axis=1)\n",
    "new_rev_2"
   ]
  },
  {
   "cell_type": "code",
   "execution_count": 28,
   "metadata": {},
   "outputs": [
    {
     "name": "stdout",
     "output_type": "stream",
     "text": [
      "Existing customer revenue in 2016 is $7485452.58 , and 2017 is $2641259.99\n"
     ]
    }
   ],
   "source": [
    "#existing customer revenue current year\n",
    "y_2015 = df[df['year'] == 2015]\n",
    "y_2016 = df[df['year'] == 2016]\n",
    "y_2017 = df[df['year'] == 2017]\n",
    "\n",
    "join_1 = pd.merge(y_2015, y_2016, on='customer_email')\n",
    "join_2 = pd.merge(y_2016, y_2017, on='customer_email')\n",
    "rev_2016 = join_1['net_revenue_y'].sum()\n",
    "rev_2017 = join_2['net_revenue_y'].sum()\n",
    "print('Existing customer revenue in 2016 is ${} , and 2017 is ${}'.format(rev_2016, rev_2017))"
   ]
  },
  {
   "cell_type": "code",
   "execution_count": 29,
   "metadata": {},
   "outputs": [
    {
     "name": "stdout",
     "output_type": "stream",
     "text": [
      "Existing customer revenue in year prior to 2016 is $7465117.12 , and prior to 2017 is $2620648.65\n"
     ]
    }
   ],
   "source": [
    "#existing customer revenue prior year\n",
    "rev_prior_2016 = join_1['net_revenue_x'].sum()\n",
    "rev_prior_2017 = join_2['net_revenue_x'].sum()\n",
    "print('Existing customer revenue in year prior to 2016 is ${} , and prior to 2017 is ${}'.format(rev_prior_2016, rev_prior_2017))"
   ]
  },
  {
   "cell_type": "code",
   "execution_count": 30,
   "metadata": {},
   "outputs": [],
   "source": [
    "# # total customer current year\n",
    "# customer_total = df.groupby('year')['customer_email'].apply(sum).to_frame()\n",
    "# customer_total"
   ]
  },
  {
   "cell_type": "code",
   "execution_count": 31,
   "metadata": {},
   "outputs": [
    {
     "name": "stdout",
     "output_type": "stream",
     "text": [
      "The total customers for 2015 was 231294. The total customers for 2016 was 204646. The total customers for 2017 was 231294.\n"
     ]
    }
   ],
   "source": [
    "#total customers with previous year\n",
    "customers_2015 = len(y_2015['customer_email'].unique())\n",
    "customers_2016 = len(y_2016['customer_email'].unique())\n",
    "customers_2017 = len(y_2015['customer_email'].unique())\n",
    "print('The total customers for 2015 was {}. The total customers for 2016 was {}. The total customers for 2017 was {}.'.format(customers_2015, customers_2016, customers_2017))\n"
   ]
  },
  {
   "cell_type": "code",
   "execution_count": 39,
   "metadata": {},
   "outputs": [
    {
     "data": {
      "text/html": [
       "<div>\n",
       "<style scoped>\n",
       "    .dataframe tbody tr th:only-of-type {\n",
       "        vertical-align: middle;\n",
       "    }\n",
       "\n",
       "    .dataframe tbody tr th {\n",
       "        vertical-align: top;\n",
       "    }\n",
       "\n",
       "    .dataframe thead th {\n",
       "        text-align: right;\n",
       "    }\n",
       "</style>\n",
       "<table border=\"1\" class=\"dataframe\">\n",
       "  <thead>\n",
       "    <tr style=\"text-align: right;\">\n",
       "      <th></th>\n",
       "      <th>year</th>\n",
       "      <th>customer_email</th>\n",
       "    </tr>\n",
       "  </thead>\n",
       "  <tbody>\n",
       "    <tr>\n",
       "      <th>0</th>\n",
       "      <td>2015</td>\n",
       "      <td>231294</td>\n",
       "    </tr>\n",
       "    <tr>\n",
       "      <th>1</th>\n",
       "      <td>2016</td>\n",
       "      <td>145062</td>\n",
       "    </tr>\n",
       "    <tr>\n",
       "      <th>2</th>\n",
       "      <td>2017</td>\n",
       "      <td>228262</td>\n",
       "    </tr>\n",
       "  </tbody>\n",
       "</table>\n",
       "</div>"
      ],
      "text/plain": [
       "   year  customer_email\n",
       "0  2015          231294\n",
       "1  2016          145062\n",
       "2  2017          228262"
      ]
     },
     "execution_count": 39,
     "metadata": {},
     "output_type": "execute_result"
    }
   ],
   "source": [
    "new_customer = df.drop_duplicates(subset='customer_email')\n",
    "new_customer = new_customer.groupby('year')['customer_email'].count().to_frame().reset_index()\n",
    "new_customer"
   ]
  },
  {
   "cell_type": "code",
   "execution_count": 34,
   "metadata": {},
   "outputs": [
    {
     "name": "stdout",
     "output_type": "stream",
     "text": [
      "The lost amount of customers going into 2016 is 231294, and the lost amount of customers going into 2017 is 204646\n"
     ]
    }
   ],
   "source": [
    "lost_customers_2016 = len(y_2015[~y_2015.isin(y_2016)].dropna())\n",
    "lost_customers_2017 = len(y_2016[~y_2016.isin(y_2017)].dropna())\n",
    "print('The lost amount of customers going into 2016 is {}, and the lost amount of customers going into 2017 is {}'.format(lost_customers_2016, lost_customers_2017))"
   ]
  },
  {
   "cell_type": "code",
   "execution_count": 44,
   "metadata": {},
   "outputs": [
    {
     "data": {
      "image/png": "[encoded data removed]",
      "text/plain": [
       "<Figure size 432x288 with 1 Axes>"
      ]
     },
     "metadata": {},
     "output_type": "display_data"
    }
   ],
   "source": [
    "#plotting new customers by year\n",
    "with sns.plotting_context(\"notebook\",font_scale=1):\n",
    "    sns.set_style(\"whitegrid\")\n",
    "    sns.barplot(data=new_customer, x='year', y='customer_email').set_title('New Customers by Year')\n",
    "    sns.set(rc={'figure.figsize':(18,10)})"
   ]
  },
  {
   "cell_type": "code",
   "execution_count": 46,
   "metadata": {},
   "outputs": [
    {
     "data": {
      "text/plain": [
       "<matplotlib.axes._subplots.AxesSubplot at 0x7fb5e42fe460>"
      ]
     },
     "execution_count": 46,
     "metadata": {},
     "output_type": "execute_result"
    },
    {
     "data": {
      "image/png": "[encoded data removed]",
      "text/plain": [
       "<Figure size 1296x720 with 1 Axes>"
      ]
     },
     "metadata": {},
     "output_type": "display_data"
    }
   ],
   "source": [
    "#revenue by year\n",
    "sns.boxplot(data=df, x='year', y='net_revenue')"
   ]
  },
  {
   "cell_type": "code",
   "execution_count": 50,
   "metadata": {},
   "outputs": [
    {
     "data": {
      "text/plain": [
       "<matplotlib.axes._subplots.AxesSubplot at 0x7fb5e40826d0>"
      ]
     },
     "execution_count": 50,
     "metadata": {},
     "output_type": "execute_result"
    },
    {
     "data": {
      "image/png": "[encoded data removed]",
      "text/plain": [
       "<Figure size 1296x720 with 1 Axes>"
      ]
     },
     "metadata": {},
     "output_type": "display_data"
    }
   ],
   "source": [
    "#revenue lost from attrition\n",
    "sns.barplot(data=new_rev_2, x='year', y='lost from attrition')"
   ]
  },
  {
   "cell_type": "code",
   "execution_count": null,
   "metadata": {},
   "outputs": [],
   "source": []
  }
 ],
 "metadata": {
  "kernelspec": {
   "display_name": "Python 3",
   "language": "python",
   "name": "python3"
  },
  "language_info": {
   "codemirror_mode": {
    "name": "ipython",
    "version": 3
   },
   "file_extension": ".py",
   "mimetype": "text/x-python",
   "name": "python",
   "nbconvert_exporter": "python",
   "pygments_lexer": "ipython3",
   "version": "3.8.3"
  }
 },
 "nbformat": 4,
 "nbformat_minor": 4
}
